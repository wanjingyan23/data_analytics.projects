{
 "cells": [
  {
   "cell_type": "code",
   "execution_count": 51,
   "id": "b280e7b5",
   "metadata": {},
   "outputs": [],
   "source": [
    "import pandas as pd\n",
    "from sklearn.metrics import r2_score, classification_report, roc_auc_score\n",
    "import numpy as np\n",
    "from sklearn.ensemble import RandomForestRegressor, GradientBoostingRegressor, GradientBoostingClassifier\n",
    "from sklearn.linear_model import Ridge, Lasso, LinearRegression, LogisticRegression\n",
    "from sklearn.svm import SVR\n",
    "from sklearn.neighbors import KNeighborsRegressor\n",
    "from sklearn.model_selection import train_test_split\n",
    "from sklearn.preprocessing import StandardScaler, OneHotEncoder\n",
    "from sklearn.compose import ColumnTransformer\n",
    "from sklearn.pipeline import Pipeline\n",
    "from imblearn.over_sampling import SMOTE\n",
    "import matplotlib.pyplot as plt\n",
    "import seaborn as sns\n",
    "from imblearn.over_sampling import RandomOverSampler"
   ]
  },
  {
   "cell_type": "code",
   "execution_count": 38,
   "id": "7c1c72d7",
   "metadata": {},
   "outputs": [],
   "source": [
    "merged_all = pd.read_csv('/Users/annaywj/Desktop/SDSU/BDA600/Capstone/merged_all_variables.csv')\n",
    "ped_parties = pd.read_csv('/Users/annaywj/Downloads/Ped_Parties.csv')\n",
    "ped_victims = pd.read_csv('//Users/annaywj/Downloads/Ped_Victims.csv')\n",
    "socioeconomic = pd.read_csv('/Users/annaywj/Downloads/socioeconomic_merged.csv')"
   ]
  },
  {
   "cell_type": "code",
   "execution_count": 39,
   "id": "a89d6ab1",
   "metadata": {},
   "outputs": [
    {
     "data": {
      "text/plain": [
       "{'merged_all_variables': ['ACCIDENT_YEAR',\n",
       "  'COLLISION_DATE',\n",
       "  'COLLISION_TIME',\n",
       "  'DAY_OF_WEEK',\n",
       "  'hour',\n",
       "  'humidity',\n",
       "  'windspeed',\n",
       "  'cloudcover',\n",
       "  'city',\n",
       "  'Street_Name',\n",
       "  'Lanes',\n",
       "  'Speed_Limit_MPH',\n",
       "  'Speed_2022_MPH',\n",
       "  '2022_AADT_Range',\n",
       "  '1_year_Speed_%_change',\n",
       "  '1_year_AADT_%_change',\n",
       "  'ROAD',\n",
       "  'TOTAL_CRASHES',\n",
       "  'AVG_SEVERITY',\n",
       "  'COMMON_SURFACE',\n",
       "  'COMMON_CONDITION'],\n",
       " 'ped_parties': ['CASE_ID',\n",
       "  'PARTY_NUMBER',\n",
       "  'PARTY_TYPE',\n",
       "  'AT_FAULT',\n",
       "  'PARTY_SEX',\n",
       "  'PARTY_AGE',\n",
       "  'PARTY_SOBRIETY',\n",
       "  'PARTY_DRUG_PHYSICAL',\n",
       "  'DIR_OF_TRAVEL',\n",
       "  'PARTY_SAFETY_EQUIP_1',\n",
       "  'PARTY_SAFETY_EQUIP_2',\n",
       "  'FINAN_RESPONS',\n",
       "  'SP_INFO_1',\n",
       "  'SP_INFO_2',\n",
       "  'SP_INFO_3',\n",
       "  'OAF_VIOLATION_CODE',\n",
       "  'OAF_VIOL_CAT',\n",
       "  'OAF_VIOL_SECTION',\n",
       "  'OAF_VIOLATION_SUFFIX',\n",
       "  'OAF_1',\n",
       "  'OAF_2',\n",
       "  'PARTY_NUMBER_KILLED',\n",
       "  'PARTY_NUMBER_INJURED',\n",
       "  'MOVE_PRE_ACC',\n",
       "  'VEHICLE_YEAR',\n",
       "  'VEHICLE_MAKE',\n",
       "  'STWD_VEHICLE_TYPE',\n",
       "  'CHP_VEH_TYPE_TOWING',\n",
       "  'CHP_VEH_TYPE_TOWED',\n",
       "  'RACE',\n",
       "  'INATTENTION',\n",
       "  'SPECIAL_INFO_F',\n",
       "  'SPECIAL_INFO_G',\n",
       "  'ACCIDENT_YEAR'],\n",
       " 'ped_victims': ['CASE_ID',\n",
       "  'PARTY_NUMBER',\n",
       "  'VICTIM_NUMBER',\n",
       "  'VICTIM_ROLE',\n",
       "  'VICTIM_SEX',\n",
       "  'VICTIM_AGE',\n",
       "  'VICTIM_DEGREE_OF_INJURY',\n",
       "  'VICTIM_SEATING_POSITION',\n",
       "  'VICTIM_SAFETY_EQUIP_1',\n",
       "  'VICTIM_SAFETY_EQUIP_2',\n",
       "  'VICTIM_EJECTED',\n",
       "  'COUNTY',\n",
       "  'CITY',\n",
       "  'ACCIDENT_YEAR'],\n",
       " 'socioeconomic_merged': ['CASE_ID',\n",
       "  'POINT_X',\n",
       "  'POINT_Y',\n",
       "  'geometry',\n",
       "  'index_right',\n",
       "  'GEOID',\n",
       "  'NAMELSAD',\n",
       "  'census_tract',\n",
       "  'Client Count',\n",
       "  'tract',\n",
       "  'yr_id',\n",
       "  '10 to 14',\n",
       "  '15 to 17',\n",
       "  '18 and 19',\n",
       "  '20 to 24',\n",
       "  '25 to 29',\n",
       "  '30 to 34',\n",
       "  '35 to 39',\n",
       "  '40 to 44',\n",
       "  '45 to 49',\n",
       "  '5 to 9',\n",
       "  '50 to 54',\n",
       "  '55 to 59',\n",
       "  '60 and 61',\n",
       "  '62 to 64',\n",
       "  '65 to 69',\n",
       "  '70 to 74',\n",
       "  '75 to 79',\n",
       "  '80 to 84',\n",
       "  '85 and Older',\n",
       "  'Under 5',\n",
       "  '$100,000 to $124,999',\n",
       "  '$125,000 to $149,999',\n",
       "  '$15,000 to $29,999',\n",
       "  '$150,000 to $199,999',\n",
       "  '$200,000 or more',\n",
       "  '$30,000 to $44,999',\n",
       "  '$45,000 to $59,999',\n",
       "  '$60,000 to $74,999',\n",
       "  '$75,000 to $99,999',\n",
       "  'Less than $15,000',\n",
       "  'population']}"
      ]
     },
     "execution_count": 39,
     "metadata": {},
     "output_type": "execute_result"
    }
   ],
   "source": [
    "{\n",
    "    \"merged_all_variables\": merged_all.columns.tolist(),\n",
    "    \"ped_parties\": ped_parties.columns.tolist(),\n",
    "    \"ped_victims\": ped_victims.columns.tolist(),\n",
    "    \"socioeconomic_merged\": socioeconomic.columns.tolist(),\n",
    "}"
   ]
  },
  {
   "cell_type": "code",
   "execution_count": 40,
   "id": "c9bf39ab",
   "metadata": {},
   "outputs": [],
   "source": [
    "ped_parties_grouped = ped_parties.groupby('ACCIDENT_YEAR').agg({\n",
    "    'PARTY_AGE': 'mean',\n",
    "    'AT_FAULT': lambda x: (x == 'Y').mean(),\n",
    "    'INATTENTION': lambda x: (x == 'Y').mean()\n",
    "}).reset_index()\n",
    "ped_parties_grouped.columns = ['ACCIDENT_YEAR', 'AVG_PARTY_AGE', 'PCT_AT_FAULT', 'PCT_INATTENTION']\n"
   ]
  },
  {
   "cell_type": "code",
   "execution_count": 41,
   "id": "75337f67",
   "metadata": {},
   "outputs": [],
   "source": [
    "socio_grouped = socioeconomic.groupby('yr_id').agg({'population': 'mean'}).reset_index()\n",
    "socio_grouped.columns = ['ACCIDENT_YEAR', 'AVG_POPULATION']"
   ]
  },
  {
   "cell_type": "code",
   "execution_count": 42,
   "id": "06e708b5",
   "metadata": {},
   "outputs": [],
   "source": [
    "base_df = merged_all.copy()\n",
    "merged = base_df.merge(ped_parties_grouped, on='ACCIDENT_YEAR', how='left')\n",
    "merged = merged.merge(socio_grouped, on='ACCIDENT_YEAR', how='left')"
   ]
  },
  {
   "cell_type": "code",
   "execution_count": null,
   "id": "481e9951",
   "metadata": {},
   "outputs": [
    {
     "data": {
      "text/plain": [
       "(                Feature   Coefficient\n",
       " 0                 Lanes  1.239089e-01\n",
       " 1       Speed_Limit_MPH  3.715227e-02\n",
       " 2  1_year_AADT_%_change  1.451594e-03\n",
       " 3              humidity  3.997462e-03\n",
       " 4                  hour -3.358741e-03\n",
       " 5         AVG_PARTY_AGE  3.672593e-06\n",
       " 6          PCT_AT_FAULT -2.151910e-08\n",
       " 7       PCT_INATTENTION  0.000000e+00\n",
       " 8        AVG_POPULATION -1.175230e-04,\n",
       " 0.1213)"
      ]
     },
     "execution_count": 43,
     "metadata": {},
     "output_type": "execute_result"
    }
   ],
   "source": [
    "features = ['Lanes', 'Speed_Limit_MPH', '1_year_AADT_%_change', 'humidity', 'hour',\n",
    "            'AVG_PARTY_AGE', 'PCT_AT_FAULT', 'PCT_INATTENTION', 'AVG_POPULATION']\n",
    "target = 'AVG_SEVERITY'\n",
    "model_df = merged[features + [target]].dropna()\n",
    "\n",
    "X = model_df[features]\n",
    "y = model_df[target]\n",
    "\n",
    "# Fit Linear Regression\n",
    "lr_model = LinearRegression()\n",
    "lr_model.fit(X, y)\n",
    "\n",
    "y_pred = lr_model.predict(X)\n",
    "r2 = r2_score(y, y_pred)\n",
    "\n",
    "coef_df = pd.DataFrame({\n",
    "    'Feature': features,\n",
    "    'Coefficient': lr_model.coef_\n",
    "})\n",
    "\n",
    "r2_value = round(r2, 4)\n",
    "coef_df, r2_value\n"
   ]
  },
  {
   "cell_type": "code",
   "execution_count": null,
   "id": "e390608a",
   "metadata": {},
   "outputs": [
    {
     "data": {
      "text/plain": [
       "[('GradientBoosting', 0.7814),\n",
       " ('RandomForest', 0.7425),\n",
       " ('KNN', 0.4426),\n",
       " ('SVR', 0.4414),\n",
       " ('LinearRegression', 0.158),\n",
       " ('Ridge', 0.1579),\n",
       " ('Lasso', -0.0042)]"
      ]
     },
     "execution_count": 44,
     "metadata": {},
     "output_type": "execute_result"
    }
   ],
   "source": [
    "X = model_df[features]\n",
    "y = model_df[target]\n",
    "\n",
    "X_train, X_test, y_train, y_test = train_test_split(X, y, test_size=0.2, random_state=42)\n",
    "\n",
    "# Standardize for models that need it (SVR, KNN, Ridge, Lasso)\n",
    "scaler = StandardScaler()\n",
    "X_train_scaled = scaler.fit_transform(X_train)\n",
    "X_test_scaled = scaler.transform(X_test)\n",
    "\n",
    "models = {\n",
    "    \"LinearRegression\": LinearRegression(),\n",
    "    \"RandomForest\": RandomForestRegressor(random_state=42),\n",
    "    \"GradientBoosting\": GradientBoostingRegressor(random_state=42),\n",
    "    \"Ridge\": Ridge(),\n",
    "    \"Lasso\": Lasso(),\n",
    "    \"SVR\": SVR(),\n",
    "    \"KNN\": KNeighborsRegressor()\n",
    "}\n",
    "\n",
    "results = []\n",
    "\n",
    "for name, model in models.items():\n",
    "    if name in [\"SVR\", \"KNN\", \"Ridge\", \"Lasso\"]:\n",
    "        model.fit(X_train_scaled, y_train)\n",
    "        r2 = model.score(X_test_scaled, y_test)\n",
    "    else:\n",
    "        model.fit(X_train, y_train)\n",
    "        r2 = model.score(X_test, y_test)\n",
    "    results.append((name, round(r2, 4)))\n",
    "\n",
    "results_sorted = sorted(results, key=lambda x: x[1], reverse=True)\n",
    "results_sorted\n"
   ]
  },
  {
   "cell_type": "code",
   "execution_count": null,
   "id": "a4f56a23",
   "metadata": {},
   "outputs": [
    {
     "data": {
      "text/plain": [
       "(                Feature  Importance\n",
       " 2  1_year_AADT_%_change    0.546042\n",
       " 0                 Lanes    0.188347\n",
       " 1       Speed_Limit_MPH    0.146477\n",
       " 3              humidity    0.068871\n",
       " 4                  hour    0.050263\n",
       " 5         AVG_PARTY_AGE    0.000000\n",
       " 6          PCT_AT_FAULT    0.000000\n",
       " 7       PCT_INATTENTION    0.000000\n",
       " 8        AVG_POPULATION    0.000000,\n",
       "                 Feature  Importance\n",
       " 2  1_year_AADT_%_change    0.606618\n",
       " 1       Speed_Limit_MPH    0.173262\n",
       " 0                 Lanes    0.146808\n",
       " 3              humidity    0.052003\n",
       " 4                  hour    0.021309\n",
       " 5         AVG_PARTY_AGE    0.000000\n",
       " 6          PCT_AT_FAULT    0.000000\n",
       " 7       PCT_INATTENTION    0.000000\n",
       " 8        AVG_POPULATION    0.000000)"
      ]
     },
     "execution_count": 45,
     "metadata": {},
     "output_type": "execute_result"
    }
   ],
   "source": [
    "rf = RandomForestRegressor(random_state=42)\n",
    "gb = GradientBoostingRegressor(random_state=42)\n",
    "\n",
    "rf.fit(X, y)\n",
    "gb.fit(X, y)\n",
    "\n",
    "rf_importance = pd.DataFrame({\n",
    "    'Feature': features,\n",
    "    'Importance': rf.feature_importances_\n",
    "}).sort_values(by='Importance', ascending=False)\n",
    "\n",
    "gb_importance = pd.DataFrame({\n",
    "    'Feature': features,\n",
    "    'Importance': gb.feature_importances_\n",
    "}).sort_values(by='Importance', ascending=False)\n",
    "\n",
    "rf_importance, gb_importance"
   ]
  },
  {
   "cell_type": "code",
   "execution_count": null,
   "id": "1da206dc",
   "metadata": {},
   "outputs": [
    {
     "data": {
      "text/plain": [
       "{'avg_party_age_by_income': $30,000 to $44,999\n",
       " 0.0       109.988166\n",
       " 1.0       302.545455\n",
       " 3.0       209.166667\n",
       " 5.0        49.500000\n",
       " 7.0       201.648649\n",
       "              ...    \n",
       " 573.0     181.077586\n",
       " 590.0     142.130952\n",
       " 592.0     127.702381\n",
       " 664.0     137.933333\n",
       " 1563.0    230.336842\n",
       " Name: PARTY_AGE, Length: 301, dtype: float64,\n",
       " 'avg_party_age_by_population': population\n",
       " 0.0       122.500000\n",
       " 15.0      194.000000\n",
       " 36.0      302.545455\n",
       " 136.0      28.187500\n",
       " 173.0      49.500000\n",
       " 186.0     201.648649\n",
       " 846.0     176.275862\n",
       " 924.0     140.916667\n",
       " 970.0     156.000000\n",
       " 1307.0    104.241379\n",
       " Name: PARTY_AGE, dtype: float64,\n",
       " 'inattention_rate_by_income': $30,000 to $44,999\n",
       " 0.0       0.0\n",
       " 1.0       0.0\n",
       " 3.0       0.0\n",
       " 5.0       0.0\n",
       " 7.0       0.0\n",
       "          ... \n",
       " 573.0     0.0\n",
       " 590.0     0.0\n",
       " 592.0     0.0\n",
       " 664.0     0.0\n",
       " 1563.0    0.0\n",
       " Name: INATTENTION, Length: 301, dtype: float64,\n",
       " 'at_fault_rate_by_income': $30,000 to $44,999\n",
       " 0.0       0.449704\n",
       " 1.0       0.363636\n",
       " 3.0       0.333333\n",
       " 5.0       0.500000\n",
       " 7.0       0.378378\n",
       "             ...   \n",
       " 573.0     0.431034\n",
       " 590.0     0.404762\n",
       " 592.0     0.392857\n",
       " 664.0     0.450000\n",
       " 1563.0    0.336842\n",
       " Name: AT_FAULT, Length: 301, dtype: float64,\n",
       " 'sobriety_rate_by_income': $30,000 to $44,999\n",
       " 0.0       0.0\n",
       " 1.0       0.0\n",
       " 3.0       0.0\n",
       " 5.0       0.0\n",
       " 7.0       0.0\n",
       "          ... \n",
       " 573.0     0.0\n",
       " 590.0     0.0\n",
       " 592.0     0.0\n",
       " 664.0     0.0\n",
       " 1563.0    0.0\n",
       " Name: PARTY_SOBRIETY, Length: 301, dtype: float64}"
      ]
     },
     "execution_count": 46,
     "metadata": {},
     "output_type": "execute_result"
    }
   ],
   "source": [
    "socio_party_merged = ped_parties.merge(socioeconomic, on='CASE_ID', how='left')\n",
    "\n",
    "summary_stats = {\n",
    "    \"avg_party_age_by_income\": socio_party_merged.groupby('$30,000 to $44,999')['PARTY_AGE'].mean().dropna(),\n",
    "    \"avg_party_age_by_population\": socio_party_merged.groupby('population')['PARTY_AGE'].mean().dropna().head(10),\n",
    "    \"inattention_rate_by_income\": socio_party_merged.groupby('$30,000 to $44,999')['INATTENTION'].apply(lambda x: (x == 'Y').mean()).dropna(),\n",
    "    \"at_fault_rate_by_income\": socio_party_merged.groupby('$30,000 to $44,999')['AT_FAULT'].apply(lambda x: (x == 'Y').mean()).dropna(),\n",
    "    \"sobriety_rate_by_income\": socio_party_merged.groupby('$30,000 to $44,999')['PARTY_SOBRIETY'].apply(lambda x: (x == 'HAD BEEN DRINKING').mean()).dropna(),\n",
    "}\n",
    "\n",
    "summary_stats"
   ]
  },
  {
   "cell_type": "markdown",
   "id": "cd78914c",
   "metadata": {},
   "source": []
  },
  {
   "cell_type": "code",
   "execution_count": null,
   "id": "c406ce81",
   "metadata": {},
   "outputs": [
    {
     "name": "stderr",
     "output_type": "stream",
     "text": [
      "/var/folders/4k/gkr388115hjbdbj5xzxdyy9h0000gn/T/ipykernel_93647/1959001882.py:7: SettingWithCopyWarning: \n",
      "A value is trying to be set on a copy of a slice from a DataFrame.\n",
      "Try using .loc[row_indexer,col_indexer] = value instead\n",
      "\n",
      "See the caveats in the documentation: https://pandas.pydata.org/pandas-docs/stable/user_guide/indexing.html#returning-a-view-versus-a-copy\n",
      "  socio_party_merged_clean['AT_FAULT_BINARY'] = (socio_party_merged_clean['AT_FAULT'] == 'Y').astype(int)\n",
      "/opt/anaconda3/envs/python_env/lib/python3.9/site-packages/sklearn/metrics/_classification.py:1344: UndefinedMetricWarning: Precision and F-score are ill-defined and being set to 0.0 in labels with no predicted samples. Use `zero_division` parameter to control this behavior.\n",
      "  _warn_prf(average, modifier, msg_start, len(result))\n",
      "/opt/anaconda3/envs/python_env/lib/python3.9/site-packages/sklearn/metrics/_classification.py:1344: UndefinedMetricWarning: Precision and F-score are ill-defined and being set to 0.0 in labels with no predicted samples. Use `zero_division` parameter to control this behavior.\n",
      "  _warn_prf(average, modifier, msg_start, len(result))\n",
      "/opt/anaconda3/envs/python_env/lib/python3.9/site-packages/sklearn/metrics/_classification.py:1344: UndefinedMetricWarning: Precision and F-score are ill-defined and being set to 0.0 in labels with no predicted samples. Use `zero_division` parameter to control this behavior.\n",
      "  _warn_prf(average, modifier, msg_start, len(result))\n"
     ]
    },
    {
     "data": {
      "text/plain": [
       "('              precision    recall  f1-score   support\\n\\n           0       0.57      1.00      0.73      2527\\n           1       0.00      0.00      0.00      1884\\n\\n    accuracy                           0.57      4411\\n   macro avg       0.29      0.50      0.36      4411\\nweighted avg       0.33      0.57      0.42      4411\\n',\n",
       " 0.4989)"
      ]
     },
     "execution_count": 47,
     "metadata": {},
     "output_type": "execute_result"
    }
   ],
   "source": [
    "socio_party_merged = ped_parties.merge(socioeconomic, on='CASE_ID', how='left')\n",
    "\n",
    "socio_party_merged_clean = socio_party_merged[(socio_party_merged['PARTY_AGE'] >= 15) & (socio_party_merged['PARTY_AGE'] <= 100)]\n",
    "\n",
    "socio_party_merged_clean['AT_FAULT_BINARY'] = (socio_party_merged_clean['AT_FAULT'] == 'Y').astype(int)\n",
    "\n",
    "model_features = ['population', 'PARTY_AGE', '$30,000 to $44,999']\n",
    "model_data = socio_party_merged_clean[model_features + ['AT_FAULT_BINARY']].dropna()\n",
    "\n",
    "X_model = model_data[model_features]\n",
    "y_model = model_data['AT_FAULT_BINARY']\n",
    "\n",
    "scaler = StandardScaler()\n",
    "X_scaled = scaler.fit_transform(X_model)\n",
    "\n",
    "X_train, X_test, y_train, y_test = train_test_split(X_scaled, y_model, test_size=0.2, random_state=42)\n",
    "\n",
    "logreg = LogisticRegression()\n",
    "logreg.fit(X_train, y_train)\n",
    "\n",
    "y_pred = logreg.predict(X_test)\n",
    "classification_rep = classification_report(y_test, y_pred)\n",
    "roc_auc = roc_auc_score(y_test, logreg.predict_proba(X_test)[:, 1])\n",
    "\n",
    "classification_rep, round(roc_auc, 4)"
   ]
  },
  {
   "cell_type": "code",
   "execution_count": null,
   "id": "8c0c905b",
   "metadata": {},
   "outputs": [
    {
     "name": "stderr",
     "output_type": "stream",
     "text": [
      "/var/folders/4k/gkr388115hjbdbj5xzxdyy9h0000gn/T/ipykernel_93647/3903381371.py:5: SettingWithCopyWarning: \n",
      "A value is trying to be set on a copy of a slice from a DataFrame.\n",
      "Try using .loc[row_indexer,col_indexer] = value instead\n",
      "\n",
      "See the caveats in the documentation: https://pandas.pydata.org/pandas-docs/stable/user_guide/indexing.html#returning-a-view-versus-a-copy\n",
      "  socio_party_merged_clean['AT_FAULT_BINARY'] = (socio_party_merged_clean['AT_FAULT'] == 'Y').astype(int)\n"
     ]
    },
    {
     "data": {
      "text/plain": [
       "('              precision    recall  f1-score   support\\n\\n           0       0.75      0.89      0.81      1818\\n           1       0.70      0.47      0.57      1047\\n\\n    accuracy                           0.74      2865\\n   macro avg       0.72      0.68      0.69      2865\\nweighted avg       0.73      0.74      0.72      2865\\n',\n",
       " 0.726)"
      ]
     },
     "execution_count": 48,
     "metadata": {},
     "output_type": "execute_result"
    }
   ],
   "source": [
    "socio_party_merged = ped_parties.merge(socioeconomic, on='CASE_ID', how='left')\n",
    "\n",
    "socio_party_merged_clean = socio_party_merged[(socio_party_merged['PARTY_AGE'] >= 15) & (socio_party_merged['PARTY_AGE'] <= 100)]\n",
    "socio_party_merged_clean['AT_FAULT_BINARY'] = (socio_party_merged_clean['AT_FAULT'] == 'Y').astype(int)\n",
    "\n",
    "# Merge with victims\n",
    "socio_party_victim_merged = socio_party_merged_clean.merge(\n",
    "    ped_victims[['CASE_ID', 'PARTY_NUMBER', 'VICTIM_AGE', 'VICTIM_DEGREE_OF_INJURY']],\n",
    "    on=['CASE_ID', 'PARTY_NUMBER'],\n",
    "    how='left'\n",
    ")\n",
    "\n",
    "base_features = ['population', 'PARTY_AGE', 'VICTIM_AGE']\n",
    "behavior_features = ['PARTY_SOBRIETY', 'INATTENTION', 'MOVE_PRE_ACC']\n",
    "\n",
    "categorical_features = behavior_features + ['VICTIM_DEGREE_OF_INJURY']\n",
    "socio_party_victim_merged = pd.get_dummies(socio_party_victim_merged, columns=categorical_features, drop_first=True)\n",
    "\n",
    "model_features_full = base_features + [col for col in socio_party_victim_merged.columns if\n",
    "                                       col.startswith('PARTY_SOBRIETY_') or\n",
    "                                       col.startswith('INATTENTION_') or\n",
    "                                       col.startswith('MOVE_PRE_ACC_') or\n",
    "                                       col.startswith('VICTIM_DEGREE_OF_INJURY_')]\n",
    "\n",
    "model_data_full = socio_party_victim_merged[model_features_full + ['AT_FAULT_BINARY']].dropna()\n",
    "\n",
    "X_full = model_data_full[model_features_full]\n",
    "y_full = model_data_full['AT_FAULT_BINARY']\n",
    "\n",
    "scaler = StandardScaler()\n",
    "X_full_scaled = scaler.fit_transform(X_full)\n",
    "\n",
    "X_train_full, X_test_full, y_train_full, y_test_full = train_test_split(X_full_scaled, y_full, test_size=0.2, random_state=42)\n",
    "\n",
    "gbc_model_full = GradientBoostingClassifier(random_state=42)\n",
    "gbc_model_full.fit(X_train_full, y_train_full)\n",
    "\n",
    "y_pred_full = gbc_model_full.predict(X_test_full)\n",
    "full_report = classification_report(y_test_full, y_pred_full)\n",
    "full_auc = roc_auc_score(y_test_full, gbc_model_full.predict_proba(X_test_full)[:, 1])\n",
    "\n",
    "full_report, round(full_auc, 4)"
   ]
  },
  {
   "cell_type": "code",
   "execution_count": null,
   "id": "e222bec7",
   "metadata": {},
   "outputs": [
    {
     "data": {
      "image/png": "[encoded data removed]",
      "text/plain": [
       "<Figure size 864x576 with 1 Axes>"
      ]
     },
     "metadata": {
      "needs_background": "light"
     },
     "output_type": "display_data"
    },
    {
     "data": {
      "text/plain": [
       "('              precision    recall  f1-score   support\\n\\n           0       0.68      0.80      0.73      1820\\n           1       0.75      0.61      0.67      1778\\n\\n    accuracy                           0.71      3598\\n   macro avg       0.71      0.70      0.70      3598\\nweighted avg       0.71      0.71      0.70      3598\\n',\n",
       " 0.7478)"
      ]
     },
     "execution_count": 52,
     "metadata": {},
     "output_type": "execute_result"
    }
   ],
   "source": [
    "feature_importances = gbc_model_full.feature_importances_\n",
    "feature_names = X_full.columns if isinstance(X_full, pd.DataFrame) else model_features_full\n",
    "\n",
    "importance_df = pd.DataFrame({\n",
    "    'Feature': feature_names,\n",
    "    'Importance': feature_importances\n",
    "}).sort_values(by='Importance', ascending=False)\n",
    "\n",
    "plt.figure(figsize=(12, 8))\n",
    "sns.barplot(x='Importance', y='Feature', data=importance_df)\n",
    "plt.title('Feature Importance (Gradient Boosting)')\n",
    "plt.tight_layout()\n",
    "plt.show()\n",
    "\n",
    "ros = RandomOverSampler(random_state=42)\n",
    "X_full_resampled, y_full_resampled = ros.fit_resample(X_full_scaled, y_full)\n",
    "\n",
    "X_train_s, X_test_s, y_train_s, y_test_s = train_test_split(X_full_resampled, y_full_resampled, test_size=0.2, random_state=42)\n",
    "\n",
    "gbc_model_smote = GradientBoostingClassifier(random_state=42)\n",
    "gbc_model_smote.fit(X_train_s, y_train_s)\n",
    "\n",
    "y_pred_s = gbc_model_smote.predict(X_test_s)\n",
    "smote_report = classification_report(y_test_s, y_pred_s)\n",
    "smote_auc = roc_auc_score(y_test_s, gbc_model_smote.predict_proba(X_test_s)[:, 1])\n",
    "\n",
    "smote_report, round(smote_auc, 4)"
   ]
  },
  {
   "cell_type": "markdown",
   "id": "c931183d",
   "metadata": {},
   "source": [
    "## Feature Engineering\n",
    "Extracted and processed the following features:\n",
    "- **Environmental**: Population\n",
    "- **Driver**: Age\n",
    "- **Victim**: Age, Degree of Injury (one-hot encoded)\n",
    "- **Behavioral**:\n",
    "  - Sobriety status\n",
    "  - Distraction behavior\n",
    "  - Movement preceding the crash\n",
    "\n",
    "Target variable:\n",
    "- `AT_FAULT_BINARY` (1 = Yes, 0 = No)\n",
    "\n",
    "## Modeling Process\n",
    "- Initial modeling with basic features\n",
    "- Feature expansion with behavioral attributes\n",
    "- Class balancing using Random OverSampler\n",
    "- Evaluation metrics: Accuracy, Precision, Recall, F1-Score, AUC\n",
    "\n",
    "## Key Results\n",
    "\n",
    "| Modeling Stage | AUC Score | Accuracy | Recall (At-Fault) |\n",
    "|:---------------|:---------|:---------|:------------------|\n",
    "| Basic Features Only | 0.6347 | 67% | 47% |\n",
    "| After Adding Behavioral Features | 0.726 | 74% | 47% |\n",
    "| ➡️ After Random Oversampling | **0.7478** | **71%** | **61%** |\n",
    "\n",
    "- Final model achieved **0.748 AUC** and **71% accuracy**.\n",
    "- At-fault recall rate improved significantly from 47% to **61%**.\n",
    "- Behavior and victim injury were the most important predictors."
   ]
  },
  {
   "cell_type": "code",
   "execution_count": 55,
   "id": "561f4684",
   "metadata": {},
   "outputs": [
    {
     "data": {
      "text/plain": [
       "Index(['CASE_ID', 'POINT_X', 'POINT_Y', 'geometry', 'index_right', 'GEOID',\n",
       "       'NAMELSAD', 'census_tract', 'Client Count', 'tract', 'yr_id',\n",
       "       '10 to 14', '15 to 17', '18 and 19', '20 to 24', '25 to 29', '30 to 34',\n",
       "       '35 to 39', '40 to 44', '45 to 49', '5 to 9', '50 to 54', '55 to 59',\n",
       "       '60 and 61', '62 to 64', '65 to 69', '70 to 74', '75 to 79', '80 to 84',\n",
       "       '85 and Older', 'Under 5', '$100,000 to $124,999',\n",
       "       '$125,000 to $149,999', '$15,000 to $29,999', '$150,000 to $199,999',\n",
       "       '$200,000 or more', '$30,000 to $44,999', '$45,000 to $59,999',\n",
       "       '$60,000 to $74,999', '$75,000 to $99,999', 'Less than $15,000',\n",
       "       'population_x', 'PARTY_NUMBER', 'PARTY_TYPE', 'AT_FAULT', 'PARTY_SEX',\n",
       "       'PARTY_AGE', 'PARTY_DRUG_PHYSICAL', 'PARTY_SOBRIETY', 'DIR_OF_TRAVEL',\n",
       "       'SP_INFO_2', 'VEHICLE_YEAR', 'VEHICLE_MAKE', 'RACE', 'VICTIM_SEX',\n",
       "       'VICTIM_AGE', 'VICTIM_DEGREE_OF_INJURY', 'population_of_driver_race',\n",
       "       'ACCIDENT_YEAR', 'COLLISION_DATE', 'COLLISION_TIME'],\n",
       "      dtype='object')"
      ]
     },
     "execution_count": 55,
     "metadata": {},
     "output_type": "execute_result"
    }
   ],
   "source": [
    "race_population = pd.read_csv('/Users/annaywj/Downloads/collisions_with_driver_race_population_with_time.csv')\n",
    "race_population.columns"
   ]
  },
  {
   "cell_type": "markdown",
   "id": "4f4db64c",
   "metadata": {},
   "source": [
    "#### Key Features Created\n",
    "- `same_race_population`: Number of people of the same race as the driver in their census tract.\n",
    "- `race_density`: Proportion of the census tract's population that shares the driver's race (`same_race_population` / `tract_total_population`).\n",
    "\n",
    "#### How It Was Used\n",
    "- Merged with the main dataset using `CASE_ID` and `PARTY_NUMBER`.\n",
    "- Created two numerical features (`same_race_population` and `race_density`).\n",
    "- Added into the model alongside driver behavior and victim characteristics.\n",
    "\n",
    "#### Insights\n",
    "- Adding race exposure variables improved AUC from ~0.748 to **0.7941**.\n",
    "- Higher or lower racial density relative to the driver’s background may impact accident context and responsibility likelihood."
   ]
  },
  {
   "cell_type": "code",
   "execution_count": 57,
   "id": "fc02bce9",
   "metadata": {},
   "outputs": [
    {
     "name": "stdout",
     "output_type": "stream",
     "text": [
      "              precision    recall  f1-score   support\n",
      "\n",
      "           0       0.71      0.68      0.69       964\n",
      "           1       0.70      0.73      0.71      1000\n",
      "\n",
      "    accuracy                           0.70      1964\n",
      "   macro avg       0.70      0.70      0.70      1964\n",
      "weighted avg       0.70      0.70      0.70      1964\n",
      "\n",
      "AUC Score: 0.7941\n"
     ]
    }
   ],
   "source": [
    "socio_party_victim_with_race = socio_party_victim_merged.merge(\n",
    "    race_population[['CASE_ID', 'PARTY_NUMBER', 'population_of_driver_race', 'population_x']],\n",
    "    on=['CASE_ID', 'PARTY_NUMBER'],\n",
    "    how='left'\n",
    ")\n",
    "\n",
    "# 3. Create new features\n",
    "socio_party_victim_with_race['same_race_population'] = socio_party_victim_with_race['population_of_driver_race']\n",
    "socio_party_victim_with_race['tract_total_population'] = socio_party_victim_with_race['population_x']\n",
    "\n",
    "# Fix: Prevent division by zero\n",
    "socio_party_victim_with_race['tract_total_population'] = socio_party_victim_with_race['tract_total_population'].replace(0, 1)\n",
    "\n",
    "# Now safely calculate race density\n",
    "socio_party_victim_with_race['race_density'] = socio_party_victim_with_race['same_race_population'] / socio_party_victim_with_race['tract_total_population']\n",
    "\n",
    "# 4. Define features\n",
    "base_features = ['population', 'PARTY_AGE', 'VICTIM_AGE']\n",
    "behavior_features = [col for col in socio_party_victim_with_race.columns if col.startswith(('PARTY_SOBRIETY_', 'INATTENTION_', 'MOVE_PRE_ACC_', 'VICTIM_DEGREE_OF_INJURY_'))]\n",
    "new_race_features = ['same_race_population', 'race_density']\n",
    "\n",
    "# Final list of features\n",
    "model_features_final = base_features + behavior_features + new_race_features\n",
    "\n",
    "# 5. Prepare final model dataset\n",
    "model_data_final = socio_party_victim_with_race[model_features_final + ['AT_FAULT_BINARY']].dropna()\n",
    "\n",
    "X_final = model_data_final[model_features_final]\n",
    "y_final = model_data_final['AT_FAULT_BINARY']\n",
    "\n",
    "# 6. Standardize features\n",
    "scaler = StandardScaler()\n",
    "X_final_scaled = scaler.fit_transform(X_final)\n",
    "\n",
    "# 7. Oversample to balance classes\n",
    "ros = RandomOverSampler(random_state=42)\n",
    "X_resampled, y_resampled = ros.fit_resample(X_final_scaled, y_final)\n",
    "\n",
    "# 8. Train-test split\n",
    "X_train, X_test, y_train, y_test = train_test_split(X_resampled, y_resampled, test_size=0.2, random_state=42)\n",
    "\n",
    "# 9. Train the Gradient Boosting model\n",
    "gbc_final = GradientBoostingClassifier(random_state=42)\n",
    "gbc_final.fit(X_train, y_train)\n",
    "\n",
    "# 10. Predict and evaluate\n",
    "y_pred = gbc_final.predict(X_test)\n",
    "report_final = classification_report(y_test, y_pred)\n",
    "auc_final = roc_auc_score(y_test, gbc_final.predict_proba(X_test)[:, 1])\n",
    "\n",
    "print(report_final)\n",
    "print('AUC Score:', round(auc_final, 4))\n",
    " "
   ]
  },
  {
   "cell_type": "code",
   "execution_count": 58,
   "id": "40bdcea1",
   "metadata": {},
   "outputs": [],
   "source": [
    "weather = pd.read_csv('/Users/annaywj/Desktop/SDSU/BDA600/Capstone/weather-dataset/sd_combined_18_24.csv')"
   ]
  },
  {
   "cell_type": "code",
   "execution_count": 59,
   "id": "6b214ebd",
   "metadata": {},
   "outputs": [
    {
     "data": {
      "text/plain": [
       "('              precision    recall  f1-score   support\\n\\n           0       0.72      0.71      0.72       964\\n           1       0.73      0.74      0.73      1000\\n\\n    accuracy                           0.73      1964\\n   macro avg       0.73      0.72      0.72      1964\\nweighted avg       0.73      0.73      0.72      1964\\n',\n",
       " 0.7997)"
      ]
     },
     "execution_count": 59,
     "metadata": {},
     "output_type": "execute_result"
    }
   ],
   "source": [
    "socio_party_victim_with_weather = socio_party_victim_with_race.merge(\n",
    "    weather[['CASE_ID', 'weather_group', 'ROAD_SURFACE', 'LIGHTING']],\n",
    "    on='CASE_ID',\n",
    "    how='left'\n",
    ")\n",
    "\n",
    "# 3. One-hot encode the new categorical weather features\n",
    "socio_party_victim_with_weather = pd.get_dummies(\n",
    "    socio_party_victim_with_weather,\n",
    "    columns=['weather_group', 'ROAD_SURFACE', 'LIGHTING'],\n",
    "    drop_first=True\n",
    ")\n",
    "\n",
    "# 4. Update feature list\n",
    "base_features = ['population', 'PARTY_AGE', 'VICTIM_AGE']\n",
    "behavior_features = [col for col in socio_party_victim_with_weather.columns if col.startswith(('PARTY_SOBRIETY_', 'INATTENTION_', 'MOVE_PRE_ACC_', 'VICTIM_DEGREE_OF_INJURY_'))]\n",
    "race_features = ['same_race_population', 'race_density']\n",
    "weather_features = [col for col in socio_party_victim_with_weather.columns if col.startswith(('weather_group_', 'ROAD_SURFACE_', 'LIGHTING_'))]\n",
    "\n",
    "# Final feature list\n",
    "model_features_weather = base_features + behavior_features + race_features + weather_features\n",
    "\n",
    "# 5. Prepare final model dataset\n",
    "model_data_weather = socio_party_victim_with_weather[model_features_weather + ['AT_FAULT_BINARY']].dropna()\n",
    "\n",
    "X_weather = model_data_weather[model_features_weather]\n",
    "y_weather = model_data_weather['AT_FAULT_BINARY']\n",
    "\n",
    "# 6. Standardize\n",
    "scaler = StandardScaler()\n",
    "X_weather_scaled = scaler.fit_transform(X_weather)\n",
    "\n",
    "# 7. Oversample\n",
    "ros = RandomOverSampler(random_state=42)\n",
    "X_resampled_weather, y_resampled_weather = ros.fit_resample(X_weather_scaled, y_weather)\n",
    "\n",
    "# 8. Train-test split\n",
    "X_train_w, X_test_w, y_train_w, y_test_w = train_test_split(X_resampled_weather, y_resampled_weather, test_size=0.2, random_state=42)\n",
    "\n",
    "# 9. Train model\n",
    "gbc_weather = GradientBoostingClassifier(random_state=42)\n",
    "gbc_weather.fit(X_train_w, y_train_w)\n",
    "\n",
    "# 10. Predict and evaluate\n",
    "y_pred_w = gbc_weather.predict(X_test_w)\n",
    "report_weather = classification_report(y_test_w, y_pred_w)\n",
    "auc_weather = roc_auc_score(y_test_w, gbc_weather.predict_proba(X_test_w)[:, 1])\n",
    "\n",
    "report_weather, round(auc_weather, 4)\n"
   ]
  },
  {
   "cell_type": "markdown",
   "id": "0d22cb31",
   "metadata": {},
   "source": [
    "#### Key Features Added\n",
    "- `weather_group`: General weather condition (clear, rain, fog, etc.), one-hot encoded.\n",
    "- `ROAD_SURFACE`: Road surface condition (dry, wet, icy, etc.), one-hot encoded.\n",
    "- `LIGHTING`: Lighting condition (daylight, dark, streetlights), one-hot encoded.\n",
    "\n",
    "#### How It Was Used\n",
    "- Merged with the main dataset based on `CASE_ID`.\n",
    "- One-hot encoded categorical weather/environment fields.\n",
    "- Included in the model with driver behavior, victim characteristics, and race exposure features.\n",
    "\n",
    "#### Insights\n",
    "- Adding weather and road environment factors improved AUC from ~0.7941 to **0.7997**.\n",
    "- Weather and lighting conditions significantly impact accident complexity and fault assignment, especially during adverse scenarios like rain or darkness."
   ]
  }
 ],
 "metadata": {
  "kernelspec": {
   "display_name": "python_env",
   "language": "python",
   "name": "python3"
  },
  "language_info": {
   "codemirror_mode": {
    "name": "ipython",
    "version": 3
   },
   "file_extension": ".py",
   "mimetype": "text/x-python",
   "name": "python",
   "nbconvert_exporter": "python",
   "pygments_lexer": "ipython3",
   "version": "3.9.12"
  }
 },
 "nbformat": 4,
 "nbformat_minor": 5
}
