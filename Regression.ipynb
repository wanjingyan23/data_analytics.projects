{
 "cells": [
  {
   "cell_type": "code",
   "execution_count": 118,
   "id": "b78ab52b",
   "metadata": {},
   "outputs": [],
   "source": [
    "import pandas as pd\n",
    "import statsmodels.api as sm\n",
    "from sklearn.model_selection import train_test_split\n",
    "from sklearn.ensemble import RandomForestRegressor\n",
    "from sklearn.metrics import r2_score\n",
    "import geopandas as gpd\n",
    "from shapely.geometry import Point\n",
    "import numpy as np\n",
    "from sklearn.neighbors import NearestNeighbors"
   ]
  },
  {
   "cell_type": "markdown",
   "id": "1b0a0cba",
   "metadata": {},
   "source": [
    "## Weather"
   ]
  },
  {
   "cell_type": "code",
   "execution_count": 119,
   "id": "80d37336",
   "metadata": {},
   "outputs": [],
   "source": [
    "weather = pd.read_csv('/Users/annaywj/Desktop/SDSU/BDA600/Capstone/sd_weather_2018_2024_combined.csv')\n",
    "crash = pd.read_csv('/Users/annaywj/Desktop/SDSU/BDA600/Capstone/TIMS_SD_Crashes2013-2024.csv')"
   ]
  },
  {
   "cell_type": "code",
   "execution_count": 120,
   "id": "df65fb70",
   "metadata": {},
   "outputs": [],
   "source": [
    "weather['datetime'] = pd.to_datetime(weather['datetime'], errors='coerce')\n",
    "crash['COLLISION_DATE'] = pd.to_datetime(crash['COLLISION_DATE'], errors='coerce')\n",
    "\n",
    "# Filter crash data for 2018–2024\n",
    "crash_filtered = crash[(crash['COLLISION_DATE'].dt.year >= 2018) &\n",
    "                          (crash['COLLISION_DATE'].dt.year <= 2024)].copy()\n",
    "\n",
    "# Aggregate crash data by date\n",
    "daily_crashes = crash_filtered.groupby('COLLISION_DATE').agg(\n",
    "    TOTAL_CRASHES=('CASE_ID', 'count'),\n",
    "    AVG_SEVERITY=('COLLISION_SEVERITY', 'mean')\n",
    ").reset_index().rename(columns={'COLLISION_DATE': 'datetime'})\n",
    "\n",
    "# Merge with weather data\n",
    "merged_weather = pd.merge(weather, daily_crashes, on='datetime', how='inner')\n",
    "\n",
    "# Select weather predictors and target\n",
    "weather_features = ['humidity', 'cloudcover', 'windspeed', 'precip']\n",
    "target_column = 'AVG_SEVERITY'\n",
    "\n",
    "# Drop missing values\n",
    "regression_ready = merged_weather[weather_features + [target_column]].dropna()"
   ]
  },
  {
   "cell_type": "code",
   "execution_count": 121,
   "id": "1d763ae7",
   "metadata": {},
   "outputs": [
    {
     "data": {
      "text/plain": [
       "(-0.10411692103061565,\n",
       " cloudcover    0.359832\n",
       " humidity      0.321860\n",
       " windspeed     0.269387\n",
       " precip        0.048921\n",
       " dtype: float64,\n",
       " <class 'statsmodels.iolib.table.SimpleTable'>)"
      ]
     },
     "execution_count": 121,
     "metadata": {},
     "output_type": "execute_result"
    }
   ],
   "source": [
    "X = regression_ready[weather_features]\n",
    "y = regression_ready[target_column]\n",
    "\n",
    "# Add constant for OLS regression\n",
    "X_ols = sm.add_constant(X)\n",
    "ols_model = sm.OLS(y, X_ols).fit()\n",
    "\n",
    "# Random Forest Regression\n",
    "X_train, X_test, y_train, y_test = train_test_split(X, y, test_size=0.3, random_state=42)\n",
    "rf_model = RandomForestRegressor(random_state=42)\n",
    "rf_model.fit(X_train, y_train)\n",
    "y_pred = rf_model.predict(X_test)\n",
    "rf_r2 = r2_score(y_test, y_pred)\n",
    "rf_importance = pd.Series(rf_model.feature_importances_, index=weather_features).sort_values(ascending=False)\n",
    "\n",
    "# Output results\n",
    "ols_summary = ols_model.summary()\n",
    "rf_r2, rf_importance, ols_summary.tables[1]"
   ]
  },
  {
   "cell_type": "markdown",
   "id": "620ac4e7",
   "metadata": {},
   "source": [
    "## SOC"
   ]
  },
  {
   "cell_type": "code",
   "execution_count": 122,
   "id": "40482a99",
   "metadata": {},
   "outputs": [],
   "source": [
    "road = pd.read_csv('/Users/annaywj/Downloads/SOC_-_Local_Roads__Speed_and_Volume_20250423.csv')"
   ]
  },
  {
   "cell_type": "code",
   "execution_count": 123,
   "id": "d2e74200",
   "metadata": {},
   "outputs": [
    {
     "data": {
      "text/plain": [
       "(-0.10429588222092101,\n",
       " AADT_Change        0.309248\n",
       " Speed_2022_MPH     0.270044\n",
       " Speed_Change       0.259344\n",
       " Lanes              0.089369\n",
       " Speed_Limit_MPH    0.071995\n",
       " dtype: float64,\n",
       " <class 'statsmodels.iolib.table.SimpleTable'>)"
      ]
     },
     "execution_count": 123,
     "metadata": {},
     "output_type": "execute_result"
    }
   ],
   "source": [
    "\n",
    "crash['COLLISION_DATE'] = pd.to_datetime(crash['COLLISION_DATE'], errors='coerce')\n",
    "crash_filtered = crash[(crash['COLLISION_DATE'].dt.year >= 2018) & \n",
    "                       (crash['COLLISION_DATE'].dt.year <= 2024)].copy()\n",
    "\n",
    "# Drop rows without location\n",
    "crash_filtered = crash_filtered.dropna(subset=['POINT_X', 'POINT_Y'])\n",
    "\n",
    "# Convert to GeoDataFrame\n",
    "crash_gdf = gpd.GeoDataFrame(\n",
    "    crash_filtered,\n",
    "    geometry=gpd.points_from_xy(crash_filtered['POINT_X'], crash_filtered['POINT_Y']),\n",
    "    crs=\"EPSG:4326\"\n",
    ")\n",
    "\n",
    "# Step 2: Convert road data to GeoDataFrame\n",
    "road = road.dropna(subset=['geometry'])\n",
    "road_gdf = gpd.GeoDataFrame(road, geometry=gpd.GeoSeries.from_wkt(road['geometry']), crs=\"EPSG:4326\")\n",
    "\n",
    "# Step 3: Project both to meters\n",
    "crash_gdf = crash_gdf.to_crs(epsg=3857)\n",
    "road_gdf = road_gdf.to_crs(epsg=3857)\n",
    "\n",
    "# Step 4: Use midpoint of road segment\n",
    "road_gdf['rep_point'] = road_gdf.geometry.representative_point()\n",
    "road_gdf.set_geometry('rep_point', inplace=True)\n",
    "\n",
    "# Step 5: Nearest neighbor match\n",
    "crash_coords = np.array(list(zip(crash_gdf.geometry.x, crash_gdf.geometry.y)))\n",
    "road_coords = np.array(list(zip(road_gdf.geometry.x, road_gdf.geometry.y)))\n",
    "\n",
    "nn = NearestNeighbors(n_neighbors=1, radius=50)\n",
    "nn.fit(road_coords)\n",
    "distances, indices = nn.kneighbors(crash_coords)\n",
    "\n",
    "within_50m = distances[:, 0] <= 50\n",
    "crash_gdf = crash_gdf[within_50m]\n",
    "matched_indices = indices[within_50m].flatten()\n",
    "\n",
    "# Step 6: Merge\n",
    "matched_roads_clean = road_gdf.reset_index().iloc[matched_indices].reset_index(drop=True).drop(columns=['geometry'])\n",
    "joined_df = pd.concat([crash_gdf.reset_index(drop=True), matched_roads_clean], axis=1)\n",
    "\n",
    "# Step 7: Aggregate\n",
    "aggregated = joined_df.groupby('osm_id').agg(\n",
    "    TOTAL_CRASHES=('CASE_ID', 'count'),\n",
    "    AVG_SEVERITY=('COLLISION_SEVERITY', 'mean'),\n",
    "    Lanes=('Lanes', 'first'),\n",
    "    Speed_Limit_MPH=('Speed Limit MPH', 'first'),\n",
    "    Speed_2022_MPH=('Speed 2022 MPH', 'first'),\n",
    "    Speed_Change=('1 year Speed % change', 'first'),\n",
    "    AADT_Change=('1 year AADT % change', 'first')\n",
    ").dropna()\n",
    "\n",
    "# Step 8: Regression\n",
    "X = aggregated[['Lanes', 'Speed_Limit_MPH', 'Speed_2022_MPH', 'Speed_Change', 'AADT_Change']]\n",
    "y = aggregated['AVG_SEVERITY']\n",
    "\n",
    "X_ols = sm.add_constant(X)\n",
    "ols_model = sm.OLS(y, X_ols).fit()\n",
    "\n",
    "X_train, X_test, y_train, y_test = train_test_split(X, y, test_size=0.3, random_state=42)\n",
    "rf_model = RandomForestRegressor(random_state=42)\n",
    "rf_model.fit(X_train, y_train)\n",
    "y_pred = rf_model.predict(X_test)\n",
    "rf_r2 = r2_score(y_test, y_pred)\n",
    "rf_importance = pd.Series(rf_model.feature_importances_, index=X.columns).sort_values(ascending=False)\n",
    "\n",
    "# Output\n",
    "ols_summary = ols_model.summary()\n",
    "rf_r2, rf_importance, ols_summary.tables[1]"
   ]
  },
  {
   "cell_type": "markdown",
   "id": "542e6ad2",
   "metadata": {},
   "source": [
    "## Ped_party & Ped_Victim"
   ]
  },
  {
   "cell_type": "code",
   "execution_count": 124,
   "id": "0767e341",
   "metadata": {},
   "outputs": [],
   "source": [
    "ped_parties = pd.read_csv('/Users/annaywj/Downloads/Ped_Parties.csv')\n",
    "ped_victims = pd.read_csv('/Users/annaywj/Downloads/Ped_Victims.csv')"
   ]
  },
  {
   "cell_type": "code",
   "execution_count": 125,
   "id": "6b1ee110",
   "metadata": {},
   "outputs": [
    {
     "data": {
      "text/plain": [
       "(0.6957053396275799,\n",
       " INJURY_4.0         0.436046\n",
       " INJURY_1.0         0.228706\n",
       " INJURY_2.0         0.094561\n",
       " PARTY_AGE          0.090444\n",
       " VICTIM_AGE         0.089447\n",
       " INJURY_5.0         0.030886\n",
       " INJURY_7.0         0.014858\n",
       " AT_FAULT_BINARY    0.006772\n",
       " INJURY_3.0         0.004173\n",
       " INJURY_6.0         0.004107\n",
       " dtype: float64,\n",
       " <class 'statsmodels.iolib.table.SimpleTable'>)"
      ]
     },
     "execution_count": 125,
     "metadata": {},
     "output_type": "execute_result"
    }
   ],
   "source": [
    "socio_party_merged = ped_parties.merge(\n",
    "    crash[['CASE_ID', 'COLLISION_SEVERITY']],\n",
    "    on='CASE_ID',\n",
    "    how='left'\n",
    ")\n",
    "\n",
    "# Map AT_FAULT to binary\n",
    "socio_party_merged['AT_FAULT_BINARY'] = socio_party_merged['AT_FAULT'].map({'Y': 1, 'N': 0})\n",
    "\n",
    "# Step 2: Merge in victim data (victim-level table with PARTY + CRASH info)\n",
    "socio_party_victim_merged = socio_party_merged.merge(\n",
    "    ped_victims[['CASE_ID', 'PARTY_NUMBER', 'VICTIM_AGE', 'VICTIM_DEGREE_OF_INJURY']],\n",
    "    on=['CASE_ID', 'PARTY_NUMBER'],\n",
    "    how='left'\n",
    ")\n",
    "\n",
    "# Step 3: One-hot encode victim injury severity\n",
    "socio_party_victim_merged = pd.get_dummies(\n",
    "    socio_party_victim_merged,\n",
    "    columns=['VICTIM_DEGREE_OF_INJURY'],\n",
    "    prefix='INJURY',\n",
    "    drop_first=True\n",
    ")\n",
    "\n",
    "# Step 4: Prepare feature set\n",
    "model_features_victims = ['PARTY_AGE', 'VICTIM_AGE', 'AT_FAULT_BINARY'] + \\\n",
    "    [col for col in socio_party_victim_merged.columns if col.startswith('INJURY_')]\n",
    "\n",
    "model_data_victims = socio_party_victim_merged[model_features_victims + ['COLLISION_SEVERITY']].dropna()\n",
    "\n",
    "X = model_data_victims[model_features_victims]\n",
    "y = model_data_victims['COLLISION_SEVERITY']\n",
    "\n",
    "# Step 5: Run OLS\n",
    "X_ols = sm.add_constant(X)\n",
    "ols_model = sm.OLS(y, X_ols).fit()\n",
    "\n",
    "# Step 6: Random Forest Regression\n",
    "X_train, X_test, y_train, y_test = train_test_split(X, y, test_size=0.3, random_state=42)\n",
    "rf_model = RandomForestRegressor(random_state=42)\n",
    "rf_model.fit(X_train, y_train)\n",
    "y_pred = rf_model.predict(X_test)\n",
    "rf_r2 = r2_score(y_test, y_pred)\n",
    "rf_importance = pd.Series(rf_model.feature_importances_, index=X.columns).sort_values(ascending=False)\n",
    "\n",
    "# Output model results\n",
    "ols_summary = ols_model.summary()\n",
    "rf_r2, rf_importance, ols_summary.tables[1]"
   ]
  },
  {
   "cell_type": "markdown",
   "id": "6932903d",
   "metadata": {},
   "source": [
    "## Final Model"
   ]
  },
  {
   "cell_type": "code",
   "execution_count": 126,
   "id": "a1348f43",
   "metadata": {},
   "outputs": [
    {
     "data": {
      "text/plain": [
       "(-0.11099561591030516,\n",
       " cloudcover    0.376267\n",
       " humidity      0.338181\n",
       " windspeed     0.285551\n",
       " dtype: float64,\n",
       " -0.1329219627770124,\n",
       " AADT_Change       0.382801\n",
       " Speed_Change      0.312471\n",
       " Speed_2022_MPH    0.304728\n",
       " dtype: float64,\n",
       " 0.648014207470236,\n",
       " INJURY_4.0    0.480172\n",
       " INJURY_1.0    0.251844\n",
       " INJURY_2.0    0.104129\n",
       " PARTY_AGE     0.084259\n",
       " VICTIM_AGE    0.079596\n",
       " dtype: float64)"
      ]
     },
     "execution_count": 126,
     "metadata": {},
     "output_type": "execute_result"
    }
   ],
   "source": [
    "weather_vars = ['cloudcover', 'humidity', 'windspeed']\n",
    "weather_final = merged_weather[['datetime', 'AVG_SEVERITY'] + weather_vars].dropna()\n",
    "\n",
    "# From road: aggregated per road segment with osm_id\n",
    "road_vars = ['AADT_Change', 'Speed_2022_MPH', 'Speed_Change']\n",
    "road_final = aggregated[road_vars + ['AVG_SEVERITY']].dropna()\n",
    "\n",
    "# From party/victim: victim-level merged with CRASH info\n",
    "party_victim_vars = ['PARTY_AGE', 'VICTIM_AGE', 'INJURY_1.0', 'INJURY_2.0', 'INJURY_4.0']\n",
    "victim_final = socio_party_victim_merged[party_victim_vars + ['COLLISION_SEVERITY']].dropna()\n",
    "\n",
    "# Rename severity columns to align\n",
    "weather_final = weather_final.rename(columns={'AVG_SEVERITY': 'severity'})\n",
    "road_final = road_final.rename(columns={'AVG_SEVERITY': 'severity'})\n",
    "victim_final = victim_final.rename(columns={'COLLISION_SEVERITY': 'severity'})\n",
    "\n",
    "# Step 2: Create separate models for each (different levels — can't merge directly)\n",
    "X_weather = weather_final[weather_vars]\n",
    "X_road = road_final[road_vars]\n",
    "X_victim = victim_final[party_victim_vars]\n",
    "y_weather = weather_final['severity']\n",
    "y_road = road_final['severity']\n",
    "y_victim = victim_final['severity']\n",
    "\n",
    "# Step 3: Train Random Forest models on each\n",
    "def train_rf_model(X, y):\n",
    "    X_train, X_test, y_train, y_test = train_test_split(X, y, test_size=0.3, random_state=42)\n",
    "    rf = RandomForestRegressor(random_state=42)\n",
    "    rf.fit(X_train, y_train)\n",
    "    y_pred = rf.predict(X_test)\n",
    "    r2 = r2_score(y_test, y_pred)\n",
    "    importance = pd.Series(rf.feature_importances_, index=X.columns).sort_values(ascending=False)\n",
    "    return r2, importance\n",
    "\n",
    "r2_weather, imp_weather = train_rf_model(X_weather, y_weather)\n",
    "r2_road, imp_road = train_rf_model(X_road, y_road)\n",
    "r2_victim, imp_victim = train_rf_model(X_victim, y_victim)\n",
    "\n",
    "r2_weather, imp_weather, r2_road, imp_road, r2_victim, imp_victim"
   ]
  },
  {
   "cell_type": "code",
   "execution_count": 127,
   "id": "65475e0e",
   "metadata": {},
   "outputs": [
    {
     "name": "stdout",
     "output_type": "stream",
     "text": [
      "['CASE_ID', 'ACCIDENT_YEAR', 'PROC_DATE', 'JURIS', 'COLLISION_DATE', 'COLLISION_TIME', 'OFFICER_ID', 'REPORTING_DISTRICT', 'DAY_OF_WEEK', 'CHP_SHIFT', 'POPULATION', 'CNTY_CITY_LOC', 'SPECIAL_COND', 'BEAT_TYPE', 'CHP_BEAT_TYPE', 'CITY_DIVISION_LAPD', 'CHP_BEAT_CLASS', 'BEAT_NUMBER', 'PRIMARY_RD', 'SECONDARY_RD', 'DISTANCE', 'DIRECTION', 'INTERSECTION', 'WEATHER_1', 'WEATHER_2', 'STATE_HWY_IND', 'CALTRANS_COUNTY', 'CALTRANS_DISTRICT', 'STATE_ROUTE', 'ROUTE_SUFFIX', 'POSTMILE_PREFIX', 'POSTMILE', 'LOCATION_TYPE', 'RAMP_INTERSECTION', 'SIDE_OF_HWY', 'TOW_AWAY', 'COLLISION_SEVERITY', 'NUMBER_KILLED', 'NUMBER_INJURED', 'PARTY_COUNT', 'PRIMARY_COLL_FACTOR', 'PCF_CODE_OF_VIOL', 'PCF_VIOL_CATEGORY', 'PCF_VIOLATION', 'PCF_VIOL_SUBSECTION', 'HIT_AND_RUN', 'TYPE_OF_COLLISION', 'MVIW', 'PED_ACTION', 'ROAD_SURFACE', 'ROAD_COND_1', 'ROAD_COND_2', 'LIGHTING', 'CONTROL_DEVICE', 'CHP_ROAD_TYPE', 'PEDESTRIAN_ACCIDENT', 'BICYCLE_ACCIDENT', 'MOTORCYCLE_ACCIDENT', 'TRUCK_ACCIDENT', 'NOT_PRIVATE_PROPERTY', 'ALCOHOL_INVOLVED', 'STWD_VEHTYPE_AT_FAULT', 'CHP_VEHTYPE_AT_FAULT', 'COUNT_SEVERE_INJ', 'COUNT_VISIBLE_INJ', 'COUNT_COMPLAINT_PAIN', 'COUNT_PED_KILLED', 'COUNT_PED_INJURED', 'COUNT_BICYCLIST_KILLED', 'COUNT_BICYCLIST_INJURED', 'COUNT_MC_KILLED', 'COUNT_MC_INJURED', 'PRIMARY_RAMP', 'SECONDARY_RAMP', 'LATITUDE', 'LONGITUDE', 'COUNTY', 'CITY', 'POINT_X', 'POINT_Y', 'geometry', 'index', 'osm_id', 'Street Name', 'Highway', 'Lanes', 'Speed Limit MPH', 'Length', 'Direction', 'PeakPeriod', 'Speed 2022 MPH', 'Speed 2021 MPH', '1 year Speed % change', '2022 AADT Range', '2021 AADT Range', '1 year AADT % change', 'rep_point']\n"
     ]
    }
   ],
   "source": [
    "print(joined_df.columns.tolist())"
   ]
  },
  {
   "cell_type": "code",
   "execution_count": 128,
   "id": "b41a0fb7",
   "metadata": {},
   "outputs": [],
   "source": [
    "joined_df = joined_df.rename(columns={\n",
    "    'Speed 2022 MPH': 'Speed_2022_MPH',\n",
    "    '1 year Speed % change': 'Speed_Change',\n",
    "    '1 year AADT % change': 'AADT_Change'\n",
    "})\n",
    "\n",
    "# Extract road features by CASE_ID\n",
    "road_features = ['AADT_Change', 'Speed_Change', 'Speed_2022_MPH', 'Lanes']\n",
    "crash_road = joined_df[['CASE_ID'] + road_features]\n",
    "\n",
    "# --- 2. Extract weather features ---\n",
    "weather_vars = ['cloudcover', 'humidity', 'windspeed', 'precip']\n",
    "weather_ready = merged_weather[['datetime'] + weather_vars].dropna()\n",
    "crash_weather = crash_filtered.merge(weather_ready, left_on='COLLISION_DATE', right_on='datetime', how='left')\n",
    "\n",
    "# --- 3. Merge crash with road and weather features ---\n",
    "crash_enriched = crash_weather.merge(crash_road, on='CASE_ID', how='left')\n",
    "\n",
    "# --- 4. Merge with party & victim data ---\n",
    "final_data = socio_party_victim_merged.merge(\n",
    "    crash_enriched[['CASE_ID'] + weather_vars + road_features],\n",
    "    on='CASE_ID',\n",
    "    how='left'\n",
    ")\n",
    "\n",
    "# --- 5. Select top features ---\n",
    "selected_features = [\n",
    "    'PARTY_AGE', 'VICTIM_AGE', 'INJURY_1.0', 'INJURY_2.0', 'INJURY_4.0',\n",
    "    'cloudcover', 'humidity', 'windspeed', 'Lanes', 'precip',\n",
    "    'AADT_Change', 'Speed_Change', 'Speed_2022_MPH', 'COLLISION_SEVERITY'\n",
    "]\n",
    "\n",
    "final_data_model = final_data[selected_features].dropna()"
   ]
  },
  {
   "cell_type": "code",
   "execution_count": 129,
   "id": "041134cc",
   "metadata": {},
   "outputs": [
    {
     "name": "stdout",
     "output_type": "stream",
     "text": [
      "Final Model R²: 0.7582\n",
      "\n",
      "Feature Importances:\n",
      "INJURY_4.0        0.394914\n",
      "INJURY_1.0        0.201598\n",
      "INJURY_2.0        0.093922\n",
      "cloudcover        0.044772\n",
      "Speed_2022_MPH    0.042501\n",
      "humidity          0.041892\n",
      "windspeed         0.037340\n",
      "Speed_Change      0.035669\n",
      "AADT_Change       0.034559\n",
      "VICTIM_AGE        0.026779\n",
      "PARTY_AGE         0.024392\n",
      "Lanes             0.014395\n",
      "precip            0.007266\n",
      "dtype: float64\n"
     ]
    }
   ],
   "source": [
    "X_final = final_data_model.drop(columns='COLLISION_SEVERITY')\n",
    "y_final = final_data_model['COLLISION_SEVERITY']\n",
    "\n",
    "X_train, X_test, y_train, y_test = train_test_split(X_final, y_final, test_size=0.3, random_state=42)\n",
    "rf_final = RandomForestRegressor(random_state=42)\n",
    "rf_final.fit(X_train, y_train)\n",
    "y_pred = rf_final.predict(X_test)\n",
    "\n",
    "# --- 7. Evaluate ---\n",
    "r2_final = r2_score(y_test, y_pred)\n",
    "feature_importance = pd.Series(rf_final.feature_importances_, index=X_final.columns).sort_values(ascending=False)\n",
    "\n",
    "# --- 8. Output results ---\n",
    "print(f\"Final Model R²: {r2_final:.4f}\")\n",
    "print(\"\\nFeature Importances:\")\n",
    "print(feature_importance)"
   ]
  },
  {
   "cell_type": "code",
   "execution_count": 133,
   "id": "fb9c990f",
   "metadata": {},
   "outputs": [],
   "source": [
    "final_data_model = socio_party_victim_merged.merge(\n",
    "    crash_enriched[['CASE_ID', 'cloudcover', 'humidity', 'windspeed', 'AADT_Change', 'Speed_Change', 'Speed_2022_MPH', 'Lanes', 'precip']],\n",
    "    on='CASE_ID',\n",
    "    how='left'\n",
    ")\n",
    "\n",
    "# Filter only relevant columns + keep CASE_ID!\n",
    "final_data_model = final_data_model[[\n",
    "    'CASE_ID',  # <== add this!\n",
    "    'PARTY_AGE', 'VICTIM_AGE', 'INJURY_1.0', 'INJURY_2.0', 'INJURY_4.0',\n",
    "    'cloudcover', 'humidity', 'windspeed', 'Lanes', 'precip',\n",
    "    'AADT_Change', 'Speed_Change', 'Speed_2022_MPH',\n",
    "    'COLLISION_SEVERITY'\n",
    "]].dropna()\n"
   ]
  },
  {
   "cell_type": "code",
   "execution_count": 134,
   "id": "c35f3458",
   "metadata": {},
   "outputs": [],
   "source": [
    "features_updated = [col for col in final_data_model.columns if col not in ['COLLISION_SEVERITY', 'severity_log']]\n",
    "X = final_data_model[features_updated].dropna()\n",
    "y = final_data_model.loc[X.index, 'COLLISION_SEVERITY']"
   ]
  },
  {
   "cell_type": "code",
   "execution_count": 136,
   "id": "8ab21db3",
   "metadata": {},
   "outputs": [
    {
     "name": "stdout",
     "output_type": "stream",
     "text": [
      "Enriched RF Model R²: 0.7720\n",
      "\n",
      "Top Feature Importances:\n"
     ]
    },
    {
     "data": {
      "text/plain": [
       "INJURY_4.0        0.394914\n",
       "INJURY_1.0        0.201598\n",
       "INJURY_2.0        0.093922\n",
       "CASE_ID           0.053137\n",
       "cloudcover        0.036665\n",
       "Speed_2022_MPH    0.034500\n",
       "humidity          0.034384\n",
       "windspeed         0.032328\n",
       "Speed_Change      0.029764\n",
       "AADT_Change       0.029034\n",
       "VICTIM_AGE        0.023205\n",
       "PARTY_AGE         0.019263\n",
       "Lanes             0.011645\n",
       "precip            0.005641\n",
       "dtype: float64"
      ]
     },
     "execution_count": 136,
     "metadata": {},
     "output_type": "execute_result"
    }
   ],
   "source": [
    "X_train, X_test, y_train, y_test = train_test_split(X, y, test_size=0.3, random_state=42)\n",
    "\n",
    "rf_enriched = RandomForestRegressor(random_state=42)\n",
    "rf_enriched.fit(X_train, y_train)\n",
    "y_pred = rf_enriched.predict(X_test)\n",
    "\n",
    "r2_enriched = r2_score(y_test, y_pred)\n",
    "importances_enriched = pd.Series(rf_enriched.feature_importances_, index=X.columns).sort_values(ascending=False)\n",
    "\n",
    "print(f\"Enriched RF Model R²: {r2_enriched:.4f}\")\n",
    "print(\"\\nTop Feature Importances:\")\n",
    "importances_enriched"
   ]
  },
  {
   "cell_type": "code",
   "execution_count": 137,
   "id": "f1e3a4ea",
   "metadata": {},
   "outputs": [
    {
     "data": {
      "text/html": [
       "<div>\n",
       "<style scoped>\n",
       "    .dataframe tbody tr th:only-of-type {\n",
       "        vertical-align: middle;\n",
       "    }\n",
       "\n",
       "    .dataframe tbody tr th {\n",
       "        vertical-align: top;\n",
       "    }\n",
       "\n",
       "    .dataframe thead th {\n",
       "        text-align: right;\n",
       "    }\n",
       "</style>\n",
       "<table border=\"1\" class=\"dataframe\">\n",
       "  <thead>\n",
       "    <tr style=\"text-align: right;\">\n",
       "      <th></th>\n",
       "      <th>Feature</th>\n",
       "      <th>VIF</th>\n",
       "    </tr>\n",
       "  </thead>\n",
       "  <tbody>\n",
       "    <tr>\n",
       "      <th>0</th>\n",
       "      <td>const</td>\n",
       "      <td>73.936267</td>\n",
       "    </tr>\n",
       "    <tr>\n",
       "      <th>6</th>\n",
       "      <td>cloudcover</td>\n",
       "      <td>1.366702</td>\n",
       "    </tr>\n",
       "    <tr>\n",
       "      <th>7</th>\n",
       "      <td>humidity</td>\n",
       "      <td>1.359378</td>\n",
       "    </tr>\n",
       "    <tr>\n",
       "      <th>2</th>\n",
       "      <td>VICTIM_AGE</td>\n",
       "      <td>1.275914</td>\n",
       "    </tr>\n",
       "    <tr>\n",
       "      <th>1</th>\n",
       "      <td>PARTY_AGE</td>\n",
       "      <td>1.271574</td>\n",
       "    </tr>\n",
       "    <tr>\n",
       "      <th>10</th>\n",
       "      <td>precip</td>\n",
       "      <td>1.238299</td>\n",
       "    </tr>\n",
       "    <tr>\n",
       "      <th>8</th>\n",
       "      <td>windspeed</td>\n",
       "      <td>1.204352</td>\n",
       "    </tr>\n",
       "    <tr>\n",
       "      <th>13</th>\n",
       "      <td>Speed_2022_MPH</td>\n",
       "      <td>1.102314</td>\n",
       "    </tr>\n",
       "    <tr>\n",
       "      <th>5</th>\n",
       "      <td>INJURY_4.0</td>\n",
       "      <td>1.091316</td>\n",
       "    </tr>\n",
       "    <tr>\n",
       "      <th>11</th>\n",
       "      <td>AADT_Change</td>\n",
       "      <td>1.081750</td>\n",
       "    </tr>\n",
       "    <tr>\n",
       "      <th>4</th>\n",
       "      <td>INJURY_2.0</td>\n",
       "      <td>1.063625</td>\n",
       "    </tr>\n",
       "    <tr>\n",
       "      <th>3</th>\n",
       "      <td>INJURY_1.0</td>\n",
       "      <td>1.048485</td>\n",
       "    </tr>\n",
       "    <tr>\n",
       "      <th>9</th>\n",
       "      <td>Lanes</td>\n",
       "      <td>1.019175</td>\n",
       "    </tr>\n",
       "    <tr>\n",
       "      <th>12</th>\n",
       "      <td>Speed_Change</td>\n",
       "      <td>1.015824</td>\n",
       "    </tr>\n",
       "  </tbody>\n",
       "</table>\n",
       "</div>"
      ],
      "text/plain": [
       "           Feature        VIF\n",
       "0            const  73.936267\n",
       "6       cloudcover   1.366702\n",
       "7         humidity   1.359378\n",
       "2       VICTIM_AGE   1.275914\n",
       "1        PARTY_AGE   1.271574\n",
       "10          precip   1.238299\n",
       "8        windspeed   1.204352\n",
       "13  Speed_2022_MPH   1.102314\n",
       "5       INJURY_4.0   1.091316\n",
       "11     AADT_Change   1.081750\n",
       "4       INJURY_2.0   1.063625\n",
       "3       INJURY_1.0   1.048485\n",
       "9            Lanes   1.019175\n",
       "12    Speed_Change   1.015824"
      ]
     },
     "execution_count": 137,
     "metadata": {},
     "output_type": "execute_result"
    }
   ],
   "source": [
    "from statsmodels.stats.outliers_influence import variance_inflation_factor\n",
    "\n",
    "# Remove 'CASE_ID' before calculating VIF\n",
    "X_vif = X.drop(columns=['CASE_ID'])\n",
    "\n",
    "# Add constant for intercept\n",
    "X_vif_const = sm.add_constant(X_vif)\n",
    "\n",
    "# Calculate VIF for each feature\n",
    "vif_data = pd.DataFrame()\n",
    "vif_data['Feature'] = X_vif_const.columns\n",
    "vif_data['VIF'] = [variance_inflation_factor(X_vif_const.values, i) for i in range(X_vif_const.shape[1])]\n",
    "\n",
    "vif_data.sort_values(by='VIF', ascending=False)\n"
   ]
  },
  {
   "cell_type": "code",
   "execution_count": 140,
   "id": "03a09374",
   "metadata": {},
   "outputs": [
    {
     "name": "stdout",
     "output_type": "stream",
     "text": [
      "✅ Random Forest Classification Report (Severity Prediction)\n",
      "\n",
      "Accuracy: 0.8574\n",
      "\n",
      "              precision    recall  f1-score   support\n",
      "\n",
      "           1       1.00      0.82      0.90        88\n",
      "           2       0.91      0.67      0.77       194\n",
      "           3       0.79      0.96      0.86       504\n",
      "           4       0.93      0.83      0.88       399\n",
      "\n",
      "    accuracy                           0.86      1185\n",
      "   macro avg       0.91      0.82      0.85      1185\n",
      "weighted avg       0.87      0.86      0.86      1185\n",
      "\n"
     ]
    }
   ],
   "source": [
    "# Re-run just the Random Forest Classifier on the existing final_data_model\n",
    "# Convert COLLISION_SEVERITY into ordered classes\n",
    "final_data_model['severity_class'] = pd.cut(\n",
    "    final_data_model['COLLISION_SEVERITY'],\n",
    "    bins=[0, 1.5, 2.5, 3.5, 4.5, 5.5],\n",
    "    labels=[1, 2, 3, 4, 5]\n",
    ").astype(int)\n",
    "\n",
    "# Prepare features and target (exclude target columns)\n",
    "X_rf = final_data_model.drop(columns=['COLLISION_SEVERITY', 'severity_class'], errors='ignore')\n",
    "y_rf = final_data_model['severity_class']\n",
    "\n",
    "# Train-test split\n",
    "X_train_rf, X_test_rf, y_train_rf, y_test_rf = train_test_split(X_rf, y_rf, test_size=0.3, random_state=42)\n",
    "\n",
    "# Train Random Forest Classifier\n",
    "rf_model = RandomForestClassifier(random_state=42)\n",
    "rf_model.fit(X_train_rf, y_train_rf)\n",
    "rf_preds = rf_model.predict(X_test_rf)\n",
    "\n",
    "# Evaluation\n",
    "rf_accuracy = accuracy_score(y_test_rf, rf_preds)\n",
    "rf_report = classification_report(y_test_rf, rf_preds)\n",
    "\n",
    "from sklearn.metrics import classification_report\n",
    "\n",
    "# Pretty print the formatted classification report using Random Forest results\n",
    "print(\"✅ Random Forest Classification Report (Severity Prediction)\\n\")\n",
    "print(f\"Accuracy: {rf_accuracy:.4f}\\n\")\n",
    "print(classification_report(y_test_rf, rf_preds, digits=2))\n",
    "\n"
   ]
  },
  {
   "cell_type": "code",
   "execution_count": null,
   "id": "24f009c6",
   "metadata": {},
   "outputs": [],
   "source": []
  }
 ],
 "metadata": {
  "kernelspec": {
   "display_name": "python_env",
   "language": "python",
   "name": "python3"
  },
  "language_info": {
   "codemirror_mode": {
    "name": "ipython",
    "version": 3
   },
   "file_extension": ".py",
   "mimetype": "text/x-python",
   "name": "python",
   "nbconvert_exporter": "python",
   "pygments_lexer": "ipython3",
   "version": "3.9.12"
  }
 },
 "nbformat": 4,
 "nbformat_minor": 5
}
